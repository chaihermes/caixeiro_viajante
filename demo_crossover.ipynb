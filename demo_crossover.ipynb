{
  "nbformat": 4,
  "nbformat_minor": 0,
  "metadata": {
    "colab": {
      "provenance": [],
      "authorship_tag": "ABX9TyNkIOLotIyHQ3R5Corwa25f",
      "include_colab_link": true
    },
    "kernelspec": {
      "name": "python3",
      "display_name": "Python 3"
    },
    "language_info": {
      "name": "python"
    }
  },
  "cells": [
    {
      "cell_type": "markdown",
      "metadata": {
        "id": "view-in-github",
        "colab_type": "text"
      },
      "source": [
        "<a href=\"https://colab.research.google.com/github/chaihermes/caixeiro_viajante/blob/main/demo_crossover.ipynb\" target=\"_parent\"><img src=\"https://colab.research.google.com/assets/colab-badge.svg\" alt=\"Open In Colab\"/></a>"
      ]
    },
    {
      "cell_type": "code",
      "execution_count": null,
      "metadata": {
        "id": "DXvR3tKeJmZ7"
      },
      "outputs": [],
      "source": [
        "# -*- coding: utf-8 -*-\n",
        "\"\"\"\n",
        "Created on Wed Dec 20 21:19:37 2023\n",
        "\n",
        "@author: SérgioPolimante\n",
        "\"\"\"\n",
        "\n",
        "import random\n",
        "\n",
        "def order_crossover(parent1, parent2):\n",
        "    length = len(parent1)\n",
        "\n",
        "    # Choose two random indices for the crossover\n",
        "    start_index = random.randint(0, length - 1)\n",
        "    end_index = random.randint(start_index + 1, length)\n",
        "\n",
        "    start_index, end_index = 0, 3\n",
        "\n",
        "    print (start_index, end_index)\n",
        "    # Initialize the child with a copy of the substring from parent1\n",
        "    child = parent1[start_index:end_index]\n",
        "\n",
        "    # Fill in the remaining positions with genes from parent2\n",
        "    remaining_positions = [i for i in range(length) if i < start_index or i >= end_index]\n",
        "    print(remaining_positions)\n",
        "    remaining_genes = [gene for gene in parent2 if gene not in child]\n",
        "    print(remaining_genes)\n",
        "\n",
        "    for position, gene in zip(remaining_positions, remaining_genes):\n",
        "        child.insert(position, gene)\n",
        "\n",
        "    return child\n",
        "\n",
        "\n",
        "# # Example usage:\n",
        "# parent1 = [1, 2, 3, 4, 5, 6, 7, 8, 9]\n",
        "# parent2 = [9, 3, 7, 8, 2, 6, 5, 1, 4]\n",
        "\n",
        "# child = order_crossover(parent1, parent2)\n",
        "# print(\"Parent 1:\", [0, 1, 2, 3, 4, 5, 6, 7, 8])\n",
        "# print(\"Parent 1:\", parent1)\n",
        "# print(\"Parent 2:\", parent2)\n",
        "# print(\"Child   :\", child)\n",
        "\n",
        "\n",
        "# Example usage:\n",
        "parent1 = [(1, 1), (2, 2), (3, 3), (4,4), (5,5), (6, 6)]\n",
        "parent2 = [(6, 6), (5, 5), (4, 4), (3, 3),  (2, 2), (1, 1)]\n",
        "\n",
        "# parent1 = [1, 2, 3, 4, 5, 6]\n",
        "# parent2 = [6, 5, 4, 3, 2, 1]\n",
        "\n",
        "\n",
        "child = order_crossover(parent1, parent2)\n",
        "print(\"Parent 1:\", [0, 1, 2, 3, 4, 5, 6, 7, 8])\n",
        "print(\"Parent 1:\", parent1)\n",
        "print(\"Parent 2:\", parent2)\n",
        "print(\"Child   :\", child)"
      ]
    }
  ]
}