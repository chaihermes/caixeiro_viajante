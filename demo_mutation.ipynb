{
  "nbformat": 4,
  "nbformat_minor": 0,
  "metadata": {
    "colab": {
      "provenance": [],
      "authorship_tag": "ABX9TyNyIMgngnp7cQpcG7Zlav9T",
      "include_colab_link": true
    },
    "kernelspec": {
      "name": "python3",
      "display_name": "Python 3"
    },
    "language_info": {
      "name": "python"
    }
  },
  "cells": [
    {
      "cell_type": "markdown",
      "metadata": {
        "id": "view-in-github",
        "colab_type": "text"
      },
      "source": [
        "<a href=\"https://colab.research.google.com/github/chaihermes/caixeiro_viajante/blob/main/demo_mutation.ipynb\" target=\"_parent\"><img src=\"https://colab.research.google.com/assets/colab-badge.svg\" alt=\"Open In Colab\"/></a>"
      ]
    },
    {
      "cell_type": "code",
      "execution_count": null,
      "metadata": {
        "id": "lBrFk3UPJaDP"
      },
      "outputs": [],
      "source": [
        "\n",
        "# -*- coding: utf-8 -*-\n",
        "\"\"\"\n",
        "Created on Wed Dec 20 21:41:21 2023\n",
        "\n",
        "@author: SérgioPolimante\n",
        "\"\"\"\n",
        "\n",
        "import random\n",
        "import copy\n",
        "#### MUTATION ###\n",
        "def mutate(solution, mutation_probability):\n",
        "\n",
        "    mutated_solution = copy.deepcopy(solution)\n",
        "\n",
        "    # Check if mutation should occur\n",
        "    if random.random() < mutation_probability:\n",
        "\n",
        "        # Ensure there are at least two cities to perform a swap\n",
        "        if len(solution) < 2:\n",
        "            return solution\n",
        "\n",
        "        # Select a random index (excluding the last index) for swapping\n",
        "        index = random.randint(0, len(solution) - 2)\n",
        "\n",
        "\n",
        "\n",
        "        # Swap the cities at the selected index and the next index\n",
        "        mutated_solution[index], mutated_solution[index + 1] = solution[index + 1], solution[index]\n",
        "\n",
        "\n",
        "\n",
        "    return mutated_solution\n",
        "\n",
        "\n",
        "\n",
        "# Example usage:\n",
        "original_solution =[(99, 100), (2, 50), (1, 71)]\n",
        "mutation_probability = 1\n",
        "\n",
        "mutated_solution = mutate(original_solution, mutation_probability)\n",
        "print(\"Original Solution:\", original_solution)\n",
        "print(\"Mutated Solution:\", mutated_solution)\n"
      ]
    }
  ]
}